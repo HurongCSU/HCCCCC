{
 "cells": [
  {
   "cell_type": "code",
   "execution_count": null,
   "metadata": {},
   "outputs": [
    {
     "data": {
      "application/vnd.jupyter.widget-view+json": {
       "model_id": "",
       "version_major": 2,
       "version_minor": 0
      },
      "text/plain": [
       "HBox(children=(FloatProgress(value=0.0, description='Optimization Progress', max=210.0, style=ProgressStyle(de…"
      ]
     },
     "metadata": {},
     "output_type": "display_data"
    },
    {
     "name": "stdout",
     "output_type": "stream",
     "text": [
      "\n",
      "Generation 1 - Current best internal CV score: 0.7215876401455545\n",
      "Generation 2 - Current best internal CV score: 0.7555388227773407\n",
      "Generation 3 - Current best internal CV score: 0.7798716561762393\n",
      "Generation 4 - Current best internal CV score: 0.7798716561762393\n",
      "Generation 5 - Current best internal CV score: 0.7798716561762393\n",
      "Generation 6 - Current best internal CV score: 0.7799545141620772\n",
      "Generation 7 - Current best internal CV score: 0.7800420436664044\n",
      "Generation 8 - Current best internal CV score: 0.7840411093627064\n",
      "Generation 9 - Current best internal CV score: 0.7840411093627064\n",
      "Generation 10 - Current best internal CV score: 0.7840411093627064\n",
      "Generation 11 - Current best internal CV score: 0.7876412519669552\n",
      "Generation 12 - Current best internal CV score: 0.7876412519669552\n",
      "Generation 13 - Current best internal CV score: 0.7876412519669552\n",
      "Generation 14 - Current best internal CV score: 0.7876412519669552\n",
      "Generation 15 - Current best internal CV score: 0.7876412519669552\n",
      "Generation 16 - Current best internal CV score: 0.7900807680959875\n",
      "Generation 17 - Current best internal CV score: 0.7900807680959875\n",
      "Generation 18 - Current best internal CV score: 0.7954608207120378\n",
      "Generation 19 - Current best internal CV score: 0.7975845790715972\n",
      "Generation 20 - Current best internal CV score: 0.7975845790715972\n",
      "Best pipeline: DecisionTreeClassifier(SelectPercentile(SelectPercentile(input_matrix, percentile=85), percentile=95), criterion=entropy, max_depth=4, min_samples_leaf=17, min_samples_split=5)\n"
     ]
    },
    {
     "data": {
      "application/vnd.jupyter.widget-view+json": {
       "model_id": "",
       "version_major": 2,
       "version_minor": 0
      },
      "text/plain": [
       "HBox(children=(FloatProgress(value=0.0, description='Optimization Progress', max=210.0, style=ProgressStyle(de…"
      ]
     },
     "metadata": {},
     "output_type": "display_data"
    },
    {
     "name": "stdout",
     "output_type": "stream",
     "text": [
      "\n",
      "Generation 1 - Current best internal CV score: 0.7798350216365068\n",
      "Generation 2 - Current best internal CV score: 0.7863384515145555\n",
      "Generation 3 - Current best internal CV score: 0.7863384515145555\n",
      "Generation 4 - Current best internal CV score: 0.7863384515145555\n",
      "Generation 5 - Current best internal CV score: 0.804116468332022\n",
      "Generation 6 - Current best internal CV score: 0.804116468332022\n",
      "Generation 7 - Current best internal CV score: 0.804116468332022\n",
      "Generation 8 - Current best internal CV score: 0.804116468332022\n",
      "Generation 9 - Current best internal CV score: 0.804116468332022\n",
      "Generation 10 - Current best internal CV score: 0.804116468332022\n",
      "Generation 11 - Current best internal CV score: 0.804116468332022\n",
      "Generation 12 - Current best internal CV score: 0.804116468332022\n",
      "Generation 13 - Current best internal CV score: 0.804116468332022\n",
      "Generation 14 - Current best internal CV score: 0.804116468332022\n",
      "Generation 15 - Current best internal CV score: 0.805894595790716\n",
      "Generation 16 - Current best internal CV score: 0.805894595790716\n",
      "Generation 17 - Current best internal CV score: 0.8066119812155783\n",
      "Generation 18 - Current best internal CV score: 0.8066119812155783\n",
      "Generation 19 - Current best internal CV score: 0.8107640391424076\n",
      "Generation 20 - Current best internal CV score: 0.8107640391424076\n",
      "Best pipeline: KNeighborsClassifier(SelectPercentile(MaxAbsScaler(DecisionTreeClassifier(input_matrix, criterion=entropy, max_depth=4, min_samples_leaf=17, min_samples_split=4)), percentile=26), n_neighbors=54, p=2, weights=uniform)\n"
     ]
    },
    {
     "data": {
      "application/vnd.jupyter.widget-view+json": {
       "model_id": "",
       "version_major": 2,
       "version_minor": 0
      },
      "text/plain": [
       "HBox(children=(FloatProgress(value=0.0, description='Optimization Progress', max=210.0, style=ProgressStyle(de…"
      ]
     },
     "metadata": {},
     "output_type": "display_data"
    },
    {
     "name": "stdout",
     "output_type": "stream",
     "text": [
      "\n",
      "Generation 1 - Current best internal CV score: 0.7768750614673485\n",
      "Generation 2 - Current best internal CV score: 0.797425378638867\n",
      "Generation 3 - Current best internal CV score: 0.819804779701023\n",
      "Generation 4 - Current best internal CV score: 0.82495734166011\n",
      "Generation 5 - Current best internal CV score: 0.82495734166011\n",
      "Generation 6 - Current best internal CV score: 0.8275588857199055\n",
      "Generation 7 - Current best internal CV score: 0.8545525177025965\n",
      "Generation 8 - Current best internal CV score: 0.8545525177025965\n",
      "Generation 9 - Current best internal CV score: 0.8551841561762391\n",
      "Generation 10 - Current best internal CV score: 0.8551841561762391\n",
      "Generation 11 - Current best internal CV score: 0.8558315302911094\n",
      "Generation 12 - Current best internal CV score: 0.8558315302911094\n",
      "Generation 13 - Current best internal CV score: 0.8558315302911094\n",
      "Generation 14 - Current best internal CV score: 0.8558315302911094\n",
      "Generation 15 - Current best internal CV score: 0.857091979740362\n",
      "Generation 16 - Current best internal CV score: 0.857091979740362\n",
      "Generation 17 - Current best internal CV score: 0.8611209185680566\n",
      "Generation 18 - Current best internal CV score: 0.8611209185680566\n",
      "Generation 19 - Current best internal CV score: 0.8611209185680566\n",
      "Generation 20 - Current best internal CV score: 0.8611209185680566\n",
      "Best pipeline: LogisticRegression(Binarizer(MaxAbsScaler(input_matrix), threshold=0.65), C=0.5, dual=False, penalty=l2)\n"
     ]
    },
    {
     "data": {
      "application/vnd.jupyter.widget-view+json": {
       "model_id": "",
       "version_major": 2,
       "version_minor": 0
      },
      "text/plain": [
       "HBox(children=(FloatProgress(value=0.0, description='Optimization Progress', max=210.0, style=ProgressStyle(de…"
      ]
     },
     "metadata": {},
     "output_type": "display_data"
    },
    {
     "name": "stdout",
     "output_type": "stream",
     "text": [
      "\n",
      "Generation 1 - Current best internal CV score: 0.7609593209087333\n",
      "Generation 2 - Current best internal CV score: 0.7849510719905586\n",
      "Generation 3 - Current best internal CV score: 0.7849510719905586\n",
      "Generation 4 - Current best internal CV score: 0.7849510719905586\n",
      "Generation 5 - Current best internal CV score: 0.7849510719905586\n",
      "Generation 6 - Current best internal CV score: 0.7849510719905586\n",
      "Generation 7 - Current best internal CV score: 0.7849510719905586\n",
      "Generation 8 - Current best internal CV score: 0.7908906004130606\n",
      "Generation 9 - Current best internal CV score: 0.7908906004130606\n",
      "Generation 10 - Current best internal CV score: 0.7937619246656177\n",
      "Generation 11 - Current best internal CV score: 0.7937619246656177\n",
      "Generation 12 - Current best internal CV score: 0.7952568105822186\n",
      "Generation 13 - Current best internal CV score: 0.7952568105822186\n",
      "Generation 14 - Current best internal CV score: 0.7952568105822186\n",
      "Generation 15 - Current best internal CV score: 0.7952568105822186\n",
      "Generation 16 - Current best internal CV score: 0.7954895259638081\n",
      "Generation 17 - Current best internal CV score: 0.7954895259638081\n",
      "Generation 18 - Current best internal CV score: 0.8021007695712037\n",
      "Generation 19 - Current best internal CV score: 0.8021794477773406\n",
      "Generation 20 - Current best internal CV score: 0.8021794477773406\n",
      "Best pipeline: KNeighborsClassifier(MinMaxScaler(input_matrix), n_neighbors=22, p=2, weights=uniform)\n"
     ]
    },
    {
     "data": {
      "application/vnd.jupyter.widget-view+json": {
       "model_id": "",
       "version_major": 2,
       "version_minor": 0
      },
      "text/plain": [
       "HBox(children=(FloatProgress(value=0.0, description='Optimization Progress', max=210.0, style=ProgressStyle(de…"
      ]
     },
     "metadata": {},
     "output_type": "display_data"
    },
    {
     "name": "stdout",
     "output_type": "stream",
     "text": [
      "\n",
      "Generation 1 - Current best internal CV score: 0.6947504425649095\n",
      "Generation 2 - Current best internal CV score: 0.7036780832022028\n",
      "Generation 3 - Current best internal CV score: 0.7178330915617623\n",
      "Generation 4 - Current best internal CV score: 0.7587096159520063\n",
      "Generation 5 - Current best internal CV score: 0.7587096159520063\n",
      "Generation 6 - Current best internal CV score: 0.7587096159520063\n",
      "Generation 7 - Current best internal CV score: 0.7587096159520063\n",
      "Generation 8 - Current best internal CV score: 0.7587096159520063\n",
      "Generation 9 - Current best internal CV score: 0.7595070318646734\n",
      "Generation 10 - Current best internal CV score: 0.7905476126081825\n",
      "Generation 11 - Current best internal CV score: 0.7905476126081825\n",
      "Generation 12 - Current best internal CV score: 0.7905476126081825\n",
      "Generation 13 - Current best internal CV score: 0.7905476126081825\n",
      "Generation 14 - Current best internal CV score: 0.7905476126081825\n",
      "Generation 15 - Current best internal CV score: 0.7905476126081825\n",
      "Generation 16 - Current best internal CV score: 0.7905476126081825\n",
      "Generation 17 - Current best internal CV score: 0.7905476126081825\n",
      "Generation 18 - Current best internal CV score: 0.7905476126081825\n",
      "Generation 19 - Current best internal CV score: 0.7905476126081825\n",
      "Generation 20 - Current best internal CV score: 0.7905476126081825\n",
      "Best pipeline: DecisionTreeClassifier(input_matrix, criterion=entropy, max_depth=4, min_samples_leaf=16, min_samples_split=14)\n"
     ]
    },
    {
     "data": {
      "application/vnd.jupyter.widget-view+json": {
       "model_id": "",
       "version_major": 2,
       "version_minor": 0
      },
      "text/plain": [
       "HBox(children=(FloatProgress(value=0.0, description='Optimization Progress', max=210.0, style=ProgressStyle(de…"
      ]
     },
     "metadata": {},
     "output_type": "display_data"
    },
    {
     "name": "stdout",
     "output_type": "stream",
     "text": [
      "\n",
      "Generation 1 - Current best internal CV score: 0.7844191950236035\n",
      "Generation 2 - Current best internal CV score: 0.7844191950236035\n",
      "Generation 3 - Current best internal CV score: 0.7844191950236035\n",
      "Generation 4 - Current best internal CV score: 0.7844191950236035\n",
      "Generation 5 - Current best internal CV score: 0.7844191950236035\n",
      "Generation 6 - Current best internal CV score: 0.7903774709874115\n",
      "Generation 7 - Current best internal CV score: 0.8011699695121951\n",
      "Generation 8 - Current best internal CV score: 0.8011699695121951\n",
      "Generation 9 - Current best internal CV score: 0.8011699695121951\n",
      "Generation 10 - Current best internal CV score: 0.8050906028717545\n",
      "Generation 11 - Current best internal CV score: 0.8050906028717545\n",
      "Generation 12 - Current best internal CV score: 0.8050906028717545\n",
      "Generation 13 - Current best internal CV score: 0.8050906028717545\n",
      "Generation 14 - Current best internal CV score: 0.8050906028717545\n",
      "Generation 15 - Current best internal CV score: 0.8050906028717545\n",
      "Generation 16 - Current best internal CV score: 0.8050906028717545\n",
      "Generation 17 - Current best internal CV score: 0.8050906028717545\n",
      "Generation 18 - Current best internal CV score: 0.8050906028717545\n",
      "Generation 19 - Current best internal CV score: 0.8050906028717545\n",
      "Generation 20 - Current best internal CV score: 0.8050906028717545\n",
      "Best pipeline: KNeighborsClassifier(GaussianNB(MinMaxScaler(StandardScaler(SelectPercentile(input_matrix, percentile=19)))), n_neighbors=18, p=2, weights=uniform)\n"
     ]
    },
    {
     "data": {
      "application/vnd.jupyter.widget-view+json": {
       "model_id": "",
       "version_major": 2,
       "version_minor": 0
      },
      "text/plain": [
       "HBox(children=(FloatProgress(value=0.0, description='Optimization Progress', max=210.0, style=ProgressStyle(de…"
      ]
     },
     "metadata": {},
     "output_type": "display_data"
    },
    {
     "name": "stdout",
     "output_type": "stream",
     "text": [
      "\n",
      "Generation 1 - Current best internal CV score: 0.7773436270653029\n",
      "Generation 2 - Current best internal CV score: 0.7795294059795437\n",
      "Generation 3 - Current best internal CV score: 0.7823763891620772\n",
      "Generation 4 - Current best internal CV score: 0.7872183566089694\n",
      "Generation 5 - Current best internal CV score: 0.7872183566089694\n",
      "Generation 6 - Current best internal CV score: 0.7877691040519276\n",
      "Generation 7 - Current best internal CV score: 0.791115632376082\n",
      "Generation 8 - Current best internal CV score: 0.791115632376082\n",
      "Generation 9 - Current best internal CV score: 0.791115632376082\n",
      "Generation 10 - Current best internal CV score: 0.792159040617624\n",
      "Generation 11 - Current best internal CV score: 0.7932814958693941\n",
      "Generation 12 - Current best internal CV score: 0.7932814958693941\n",
      "Generation 13 - Current best internal CV score: 0.7932814958693941\n",
      "Generation 14 - Current best internal CV score: 0.7933832857985839\n",
      "Generation 15 - Current best internal CV score: 0.7956248770653029\n",
      "Generation 16 - Current best internal CV score: 0.7956248770653029\n",
      "Generation 17 - Current best internal CV score: 0.7956248770653029\n",
      "Generation 18 - Current best internal CV score: 0.7956248770653029\n",
      "Generation 19 - Current best internal CV score: 0.8029760031471282\n",
      "Generation 20 - Current best internal CV score: 0.8029760031471282\n",
      "Best pipeline: KNeighborsClassifier(SelectPercentile(MinMaxScaler(input_matrix), percentile=24), n_neighbors=14, p=2, weights=distance)\n"
     ]
    },
    {
     "data": {
      "application/vnd.jupyter.widget-view+json": {
       "model_id": "",
       "version_major": 2,
       "version_minor": 0
      },
      "text/plain": [
       "HBox(children=(FloatProgress(value=0.0, description='Optimization Progress', max=210.0, style=ProgressStyle(de…"
      ]
     },
     "metadata": {},
     "output_type": "display_data"
    },
    {
     "name": "stdout",
     "output_type": "stream",
     "text": [
      "\n",
      "Generation 1 - Current best internal CV score: 0.715091893686074\n",
      "Generation 2 - Current best internal CV score: 0.7423580104248623\n",
      "Generation 3 - Current best internal CV score: 0.7547381490952006\n",
      "Generation 4 - Current best internal CV score: 0.7547381490952006\n",
      "Generation 5 - Current best internal CV score: 0.7753479666601101\n",
      "Generation 6 - Current best internal CV score: 0.7775671838119591\n",
      "Generation 7 - Current best internal CV score: 0.7953352429189614\n",
      "Generation 8 - Current best internal CV score: 0.7953352429189614\n",
      "Generation 9 - Current best internal CV score: 0.7953352429189614\n",
      "Generation 10 - Current best internal CV score: 0.7953352429189614\n",
      "Generation 11 - Current best internal CV score: 0.7953352429189614\n",
      "Generation 12 - Current best internal CV score: 0.8012774144374507\n",
      "Generation 13 - Current best internal CV score: 0.8012774144374507\n",
      "Generation 14 - Current best internal CV score: 0.8200322088906372\n",
      "Generation 15 - Current best internal CV score: 0.8200322088906372\n",
      "Generation 16 - Current best internal CV score: 0.8200322088906372\n",
      "Generation 17 - Current best internal CV score: 0.8200322088906372\n",
      "Generation 18 - Current best internal CV score: 0.8200322088906372\n",
      "Generation 19 - Current best internal CV score: 0.8285194974429583\n",
      "Generation 20 - Current best internal CV score: 0.8285194974429583\n",
      "Best pipeline: LogisticRegression(SelectPercentile(MaxAbsScaler(MinMaxScaler(MaxAbsScaler(RobustScaler(input_matrix)))), percentile=8), C=15.0, dual=False, penalty=l2)\n"
     ]
    },
    {
     "data": {
      "application/vnd.jupyter.widget-view+json": {
       "model_id": "68e13a53dfb949968f26b22bfafeef79",
       "version_major": 2,
       "version_minor": 0
      },
      "text/plain": [
       "HBox(children=(FloatProgress(value=0.0, description='Optimization Progress', max=210.0, style=ProgressStyle(de…"
      ]
     },
     "metadata": {},
     "output_type": "display_data"
    },
    {
     "name": "stdout",
     "output_type": "stream",
     "text": [
      "\n",
      "Generation 1 - Current best internal CV score: 0.6958481264752162\n",
      "Generation 2 - Current best internal CV score: 0.6958481264752162\n",
      "Generation 3 - Current best internal CV score: 0.7082007277734068\n",
      "Generation 4 - Current best internal CV score: 0.7325272915027539\n",
      "Generation 5 - Current best internal CV score: 0.7325272915027539\n",
      "Generation 6 - Current best internal CV score: 0.7451578481510621\n",
      "Generation 7 - Current best internal CV score: 0.7682877040715972\n",
      "Generation 8 - Current best internal CV score: 0.7682877040715972\n",
      "Generation 9 - Current best internal CV score: 0.7699272226593235\n",
      "Generation 10 - Current best internal CV score: 0.7730365484854447"
     ]
    }
   ],
   "source": [
    "import csv\n",
    "import pandas as pd\n",
    "import numpy as np\n",
    "from tpot import TPOTClassifier\n",
    "\n",
    "from sklearn.metrics import accuracy_score\n",
    "from sklearn.metrics import average_precision_score\n",
    "from sklearn.metrics import cohen_kappa_score\n",
    "from sklearn.metrics import hamming_loss\n",
    "from sklearn.metrics import recall_score\n",
    "from sklearn.metrics import confusion_matrix\n",
    "from sklearn.metrics import roc_auc_score\n",
    "\n",
    "import warnings\n",
    "warnings.filterwarnings(\"ignore\", category=RuntimeWarning)\n",
    "import joblib\n",
    "\n",
    "import csv\n",
    "import pandas as pd\n",
    "import numpy as np\n",
    "from sklearn import model_selection\n",
    "from tpot import TPOTClassifier\n",
    "\n",
    "from sklearn.linear_model import LogisticRegression\n",
    "from sklearn.tree import DecisionTreeClassifier\n",
    "from sklearn.neighbors import KNeighborsClassifier\n",
    "from sklearn.discriminant_analysis import LinearDiscriminantAnalysis\n",
    "from sklearn.naive_bayes import GaussianNB\n",
    "from sklearn.svm import SVC\n",
    "from sklearn.ensemble import BaggingClassifier\n",
    "from sklearn.neural_network import MLPClassifier\n",
    "from sklearn.ensemble import RandomForestClassifier\n",
    "from sklearn.ensemble import ExtraTreesClassifier\n",
    "from sklearn.linear_model import LinearRegression\n",
    "from sklearn.ensemble import AdaBoostClassifier\n",
    "#from pyearth import Earth\n",
    "from sklearn.cross_decomposition import PLSRegression\n",
    "\n",
    "\n",
    "from sklearn.feature_selection import SelectKBest\n",
    "\n",
    "from sklearn.feature_selection import chi2\n",
    "from sklearn.feature_selection import f_classif\n",
    "from skfeature.function.statistical_based import t_score\n",
    "from skfeature.function.statistical_based import gini_index\n",
    "from skfeature.function.similarity_based import fisher_score\n",
    "from skfeature.function.similarity_based import reliefF\n",
    "\n",
    "from sklearn.feature_selection import mutual_info_classif\n",
    "from skfeature.function.information_theoretical_based import LCSI\n",
    "from skfeature.function.information_theoretical_based import MIM\n",
    "from skfeature.function.information_theoretical_based import MIFS\n",
    "from skfeature.function.information_theoretical_based import MRMR\n",
    "from skfeature.function.information_theoretical_based import CIFE\n",
    "from skfeature.function.information_theoretical_based import JMI\n",
    "from skfeature.function.information_theoretical_based import CMIM\n",
    "from skfeature.function.information_theoretical_based import ICAP\n",
    "from skfeature.function.information_theoretical_based import DISR\n",
    "\n",
    "from scipy.stats import wilcoxon\n",
    "\n",
    "from sklearn.metrics import roc_auc_score\n",
    "from sklearn.pipeline import make_pipeline\n",
    "from sklearn.preprocessing import StandardScaler\n",
    "from sklearn.preprocessing import MinMaxScaler\n",
    "from sklearn.utils import resample\n",
    "\n",
    "from sklearn.metrics import accuracy_score\n",
    "from sklearn.metrics import average_precision_score\n",
    "from sklearn.metrics import cohen_kappa_score\n",
    "from sklearn.metrics import hamming_loss\n",
    "from sklearn.metrics import recall_score\n",
    "from sklearn.metrics import confusion_matrix\n",
    "\n",
    "import warnings\n",
    "\n",
    "\n",
    "file_train = open(\"./csv/train.csv\")\n",
    "csv_f = csv.reader(file_train)\n",
    "features = next(csv_f)\n",
    "dataset = pd.read_csv(\"./csv/train.csv\", names=features, usecols=range(1,6132), dtype=np.float64, skiprows=1, low_memory=False)\n",
    "# INITIALIZING, CLEANING, AND STRATIFYING DATASET\n",
    "dataset[\"outcome\"] = pd.to_numeric(dataset[\"outcome\"], errors='coerce')\n",
    "dataset.dropna(axis=1, thresh=2, inplace=True)\n",
    "dataset.dropna(how='all',thresh = 20,inplace=True)\n",
    "train_feature = np.array(dataset)\n",
    "wh_inf = np.isinf(train_feature)\n",
    "train_feature[wh_inf]=0\n",
    "wh_nan = np.isnan(train_feature)\n",
    "train_feature[wh_nan]=0\n",
    "\n",
    "file_validate = open(\"./csv/validation.csv\")\n",
    "csv_f = csv.reader(file_validate)\n",
    "features = next(csv_f)\n",
    "dataset = pd.read_csv(\"./csv/validation.csv\", names=features, usecols=range(1,6132), dtype=np.float64, skiprows=1, low_memory=False)\n",
    "# INITIALIZING, CLEANING, AND STRATIFYING DATASET\n",
    "dataset[\"outcome\"] = pd.to_numeric(dataset[\"outcome\"], errors='coerce')\n",
    "dataset.dropna(axis=1, thresh=2, inplace=True)\n",
    "validate_feature = np.array(dataset)\n",
    "wh_inf = np.isinf(validate_feature)\n",
    "validate_feature[wh_inf]=0\n",
    "wh_nan = np.isnan(validate_feature)\n",
    "validate_feature[wh_nan]=0\n",
    "\n",
    "\n",
    "file_test = open(\"./csv/test.csv\")\n",
    "csv_f = csv.reader(file_test)\n",
    "features = next(csv_f)\n",
    "dataset = pd.read_csv(\"./csv/test.csv\", names=features, usecols=range(1,6132), dtype=np.float64, skiprows=1, low_memory=False)\n",
    "# INITIALIZING, CLEANING, AND STRATIFYING DATASET\n",
    "dataset[\"outcome\"] = pd.to_numeric(dataset[\"outcome\"], errors='coerce')\n",
    "dataset.dropna(axis=1, thresh=2, inplace=True)\n",
    "test_feature = np.array(dataset)\n",
    "wh_inf = np.isinf(test_feature)\n",
    "test_feature[wh_inf]=0\n",
    "wh_nan = np.isnan(test_feature)\n",
    "test_feature[wh_nan]=0\n",
    "\n",
    "\n",
    "#only use image features\n",
    "X_train = train_feature[:,:6130]\n",
    "Y_train = train_feature[:,6130]\n",
    "Y_train = Y_train.astype('int32')\n",
    "\n",
    "X_validate = validate_feature[:,:6130]\n",
    "Y_validate = validate_feature[:,6130]\n",
    "Y_validate = Y_validate.astype('int32')\n",
    "\n",
    "X_test = test_feature[:,:6130]\n",
    "Y_test = test_feature[:,6130]\n",
    "Y_test = Y_test.astype('int32')\n",
    "seed = 7\n",
    "\n",
    "np.random.seed(seed)\n",
    "np.random.shuffle(X_train) \n",
    "np.random.seed(seed)\n",
    "np.random.shuffle(Y_train)\n",
    "\n",
    "import datetime\n",
    "starttime = datetime.datetime.now()\n",
    "#直接运行Tpot\n",
    "pipeline_optimizer = TPOTClassifier(generations=20, population_size=10, config_dict = 'TPOT light',cv=5, verbosity=2, scoring='roc_auc')\n",
    "pipeline_optimizer.fit(X_train,Y_train)\n",
    "\n",
    "pipeline_optimizer = TPOTClassifier(generations=20, population_size=10, config_dict = 'TPOT light',cv=5, verbosity=2, scoring='roc_auc')\n",
    "pipeline_optimizer.fit(X_train,Y_train)\n",
    "\n",
    "pipeline_optimizer = TPOTClassifier(generations=20, population_size=10, config_dict = 'TPOT light',cv=5, verbosity=2, scoring='roc_auc')\n",
    "pipeline_optimizer.fit(X_train,Y_train)\n",
    "\n",
    "pipeline_optimizer = TPOTClassifier(generations=20, population_size=10, config_dict = 'TPOT light',cv=5, verbosity=2, scoring='roc_auc')\n",
    "pipeline_optimizer.fit(X_train,Y_train)\n",
    "\n",
    "pipeline_optimizer = TPOTClassifier(generations=20, population_size=10, config_dict = 'TPOT light',cv=5, verbosity=2, scoring='roc_auc')\n",
    "pipeline_optimizer.fit(X_train,Y_train)\n",
    "\n",
    "pipeline_optimizer = TPOTClassifier(generations=20, population_size=10, config_dict = 'TPOT light',cv=5, verbosity=2, scoring='roc_auc')\n",
    "pipeline_optimizer.fit(X_train,Y_train)\n",
    "\n",
    "pipeline_optimizer = TPOTClassifier(generations=20, population_size=10, config_dict = 'TPOT light',cv=5, verbosity=2, scoring='roc_auc')\n",
    "pipeline_optimizer.fit(X_train,Y_train)\n",
    "\n",
    "pipeline_optimizer = TPOTClassifier(generations=20, population_size=10, config_dict = 'TPOT light',cv=5, verbosity=2, scoring='roc_auc')\n",
    "pipeline_optimizer.fit(X_train,Y_train)\n",
    "\n",
    "pipeline_optimizer = TPOTClassifier(generations=20, population_size=10, config_dict = 'TPOT light',cv=5, verbosity=2, scoring='roc_auc')\n",
    "pipeline_optimizer.fit(X_train,Y_train)\n",
    "\n",
    "pipeline_optimizer = TPOTClassifier(generations=20, population_size=10, config_dict = 'TPOT light',cv=5, verbosity=2, scoring='roc_auc')\n",
    "pipeline_optimizer.fit(X_train,Y_train)\n",
    "\n",
    "endtime = datetime.datetime.now()\n",
    "print(endtime-starttime)"
   ]
  },
  {
   "cell_type": "code",
   "execution_count": null,
   "metadata": {},
   "outputs": [],
   "source": []
  }
 ],
 "metadata": {
  "kernelspec": {
   "display_name": "Python 3",
   "language": "python",
   "name": "python3"
  },
  "language_info": {
   "codemirror_mode": {
    "name": "ipython",
    "version": 3
   },
   "file_extension": ".py",
   "mimetype": "text/x-python",
   "name": "python",
   "nbconvert_exporter": "python",
   "pygments_lexer": "ipython3",
   "version": "3.7.6"
  }
 },
 "nbformat": 4,
 "nbformat_minor": 4
}
